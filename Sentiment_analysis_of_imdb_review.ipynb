{
  "nbformat": 4,
  "nbformat_minor": 0,
  "metadata": {
    "colab": {
      "provenance": [],
      "gpuType": "T4"
    },
    "kernelspec": {
      "name": "python3",
      "display_name": "Python 3"
    },
    "language_info": {
      "name": "python"
    },
    "accelerator": "GPU"
  },
  "cells": [
    {
      "cell_type": "markdown",
      "source": [
        "# Sentiment Analysis of IMDB review"
      ],
      "metadata": {
        "id": "sxs4wVr2DRO8"
      }
    },
    {
      "cell_type": "code",
      "source": [
        "import numpy as np\n",
        "import pandas as pd\n",
        "import tensorflow as tf"
      ],
      "metadata": {
        "id": "wDTeinMfqv9M"
      },
      "execution_count": null,
      "outputs": []
    },
    {
      "cell_type": "code",
      "source": [
        "!head -n 14210 IMDBDataset.csv | tail -n 5"
      ],
      "metadata": {
        "colab": {
          "base_uri": "https://localhost:8080/"
        },
        "id": "GxZ3ILm5QQUh",
        "outputId": "e0ec49df-8611-48d2-fe14-8182c5305987"
      },
      "execution_count": null,
      "outputs": [
        {
          "output_type": "stream",
          "name": "stdout",
          "text": [
            "\"Any Batman fan will know just how great the films are, they've been a major success. Batman Returns however is by far the best film in the series. A combination of excellent directing, brilliant acting and settings makes this worthy of watching on a night in.<br /><br />Tim Burton, who directed this movie, has specifically made sure that this film gives a realistic atmosphere and he's done a great job. Danny Devito (Penguin man) is a man who has inherited penguin characteristics as a baby, and grown up to become a hideous and ugly...thing! Michelle Pfiffer plays the sleek and very seducing 'Catwoman' after cats had given her there genes from being bitten. The result in both the character changes is excellent and both Catwoman and Penguin man play a very important role in this excellent film. The mysterious Catwoman is great fun to watch - her classic sayings and a funny part in which skips with her whip in a jewelry shop adds such fun to the film. Danny Devito also does well, his ability to impersonate some strange creature was vital, and he adds a great atmosphere to the film that takes us back to the dull sewers where he lives.<br /><br />You can't forget Batman though. Micheal Keaton once again pulls of a comfortable performance, and shows us a different side to Batman. His affection is let loose when he confronts Catwoman at the end of the film, and his meetings with her when she's a normal person, Selina Kyle, result in him being seduced badly in his own home. There's a clever part after this when they leave, and the film is full of great scenes. Its worth noting that Bruce Wayne's Bat mobile is not used as much as in the other Batman films, as close combat and story telling scenes make up this film.<br /><br />The winter setting is created perfectly in Gotham City with most of the scenes being set at night, and with the town being filled with snow. Therefore, if you watch this film during the summer like I have, it doesn't feel the same. Best watch it during the winter.<br /><br />Overall, its an amazing movie. All the credit goes to Tom Burton and the cast, they've done an incredible job.\",positive\n",
            "***SPOILERS*** ***SPOILERS*** It's easy to see why the script for this film won an Oscar. At least during the first half. My head was spinning from all of the snappy lines whizzing by. Noel Coward plays a New York publisher (`Why don't you publish books that you like?' - `What? And corrupt the public?') who charms and manipulates his many hangers-on. Then he dies in a plane crash and the story turns into a bizarre Flying Dutchman take-off in which Coward must find someone who truly mourns him before his soul can rest in peace. Very enjoyable until it gets bizarre. Viewed at Cinefest in Syracuse in March 2003.,positive\n",
            "\"Have you heard the theory of cloning redundancy, where a copy is poorer than the original? Caddyshack 2 is a perfect example of that. They try to duplicate everything from the first movie. Now, in a few cases this work. Robert Stack is actually a little better than Ted Knight, when they play essentially the same character. I actually like Randy Quaid, who is no more or less offensive than Bill Murray in the original. But Jackie Mason is no Rodney Dangerfield, and worse of all, C2 demonstrated once and for all that Dan Ackroyd is one of the worst comedy actors of all time. There is very little that I like him in, and C2 nailed the coffin shut on his \"\"comedic\"\" career as far as I'm concerned. He seems to feel the same, sticking more to tuffy like Driving Miss Daisy and hosting Psi-Factor. Other than that, it's mostly, \"\"been there, done that\"\" for Caddyshack 2. Watch the original twice rather than each version once, and you'll get more for your rental money.\",negative\n",
            "\"There's not that much to say in the end. One would have expect much more from a director who made way better movies in the past. It just seems like he did it without actually caring. The actors are doing their job (though Belmondo is far from amazing), but you just don't get hooked. In a word, it's boring. This is even more disappointing since I heard several time that this movie could be considered as a reaction to all the big American blockbusters, which are considered to be a threaten to the French exception by those who just can't admit they should turn to another job. I tell you, if that's the best reaction we're supposed to get, boy, I'm going to be really depressed soon...\",negative\n",
            "\"ELEPHANT WALK may not be the acme of literature or of film, but it is great entertainment in the quasi-melodramatic mode. It is the story of love, both genuine and illicit, as well as overweening ambition, devotion, and the arrogance of personal tyranny. A previous reviewer, John Mankin, questions why the central focus of the film, the mansion called Elephant Walk, should have been built by the former owner, the \"\"governor\"\" the late Tom Wiley, right across the elephants' traditional path to the major source of water, the river. To miss this point is to essentially miss the point of the whole center of the film: the hubris of man. That his son, played by Peter Finch, should become enthralled by the super image and enigma of his revered father, is not unexpected, since the son was without a mother growing up in a foreign jungle with only his father and his father's rowdy 'boys' club' as his role models. The point of the father was that he was a self-made man who would tame nature to his liking, and that liking was not just a tea plantation upon the lands the elephants once dominated, but also that he would dominate even the large bull elephant that led the herd, and thus he would dominate his son and all around him, and so we join the tale after the elephants have been denied the crucial dry season access to their pathway to water. Who could know that this dry season would last so long and what the elephants would do in desperation to get water? This is the nexus of the film: what will animals do to get water; what will humans do to get power or love? Ceylon, today's Sri Lanka, is the huge island off the coast of India where the plantation is located and one quickly learns that it is the real scenery of the story, not just the expenses of Miss Taylor. Were it not for this exotic location (much of the film was shot in Ceylon), and the magnificent \"\"bungalow\"\" this would have been just another potboiler. One must recognize the atmosphere created here as integral to the time and place, as it illuminates the latter day wealth and power attained by the English immigrant 'conquerors' that were part and parcel of the British raj. It is only such wealth gained by the use of virtual slave labor that one could build so magnificent a residence of ebony, teak, and marble. Not to be overlooked are the wonderfully carved Jalees (grille work window and doorway borders) evidently specified by art directors J. McMillan Johnson and Hal Pereira and obviously made by the cheaper labor on the island. Such craftsmanship reveals the careful attention to detail that these men sought.<br /><br />For those immune to the blandishments of time, place, and architecture, there is always the allure of Miss Taylor, as she marries a man she doesn't really know and is tacitly wooed by a another man, against the background described, and under the overarching tyranny of the legacy of a man deceased. As I said, it is not great literature nor even great film, but it is great spectacle long before that term was debased by the special effects extravaganzas of today.<br /><br />This is one of those films made to be seen on the giant screen of an outdoor drive-in, not on the home TV, so arrange the largest screen to see it on to fully appreciate its fine camera-work and scope.\",positive\n"
          ]
        }
      ]
    },
    {
      "cell_type": "code",
      "source": [
        "df = pd.read_csv('IMDBDataset.csv', nrows=15000)"
      ],
      "metadata": {
        "id": "lYaZJou0q1Uu"
      },
      "execution_count": null,
      "outputs": []
    },
    {
      "cell_type": "markdown",
      "source": [
        "## 1. Data preprocessing"
      ],
      "metadata": {
        "id": "3EIYJuX0tby_"
      }
    },
    {
      "cell_type": "code",
      "source": [
        "df"
      ],
      "metadata": {
        "id": "t35jdR-frHds",
        "colab": {
          "base_uri": "https://localhost:8080/",
          "height": 423
        },
        "outputId": "227f0bcb-be97-4a51-ff80-a2edaff9a8bb"
      },
      "execution_count": null,
      "outputs": [
        {
          "output_type": "execute_result",
          "data": {
            "text/plain": [
              "                                                  review sentiment\n",
              "0      One of the other reviewers has mentioned that ...  positive\n",
              "1      A wonderful little production. <br /><br />The...  positive\n",
              "2      I thought this was a wonderful way to spend ti...  positive\n",
              "3      Basically there's a family where a little boy ...  negative\n",
              "4      Petter Mattei's \"Love in the Time of Money\" is...  positive\n",
              "...                                                  ...       ...\n",
              "14995  Bobcat Goldthwait should be commended for atte...  negative\n",
              "14996  And it's not because since her days on \"Claris...  positive\n",
              "14997  A traveling couple (Horton and Hamilton)stumbl...  negative\n",
              "14998  This film is deeply disappointing. Not only th...  negative\n",
              "14999  The revelation here is Lana Turner's dancing a...  positive\n",
              "\n",
              "[15000 rows x 2 columns]"
            ],
            "text/html": [
              "\n",
              "  <div id=\"df-4fe602b8-87ae-4914-a00c-a5851e82bce4\" class=\"colab-df-container\">\n",
              "    <div>\n",
              "<style scoped>\n",
              "    .dataframe tbody tr th:only-of-type {\n",
              "        vertical-align: middle;\n",
              "    }\n",
              "\n",
              "    .dataframe tbody tr th {\n",
              "        vertical-align: top;\n",
              "    }\n",
              "\n",
              "    .dataframe thead th {\n",
              "        text-align: right;\n",
              "    }\n",
              "</style>\n",
              "<table border=\"1\" class=\"dataframe\">\n",
              "  <thead>\n",
              "    <tr style=\"text-align: right;\">\n",
              "      <th></th>\n",
              "      <th>review</th>\n",
              "      <th>sentiment</th>\n",
              "    </tr>\n",
              "  </thead>\n",
              "  <tbody>\n",
              "    <tr>\n",
              "      <th>0</th>\n",
              "      <td>One of the other reviewers has mentioned that ...</td>\n",
              "      <td>positive</td>\n",
              "    </tr>\n",
              "    <tr>\n",
              "      <th>1</th>\n",
              "      <td>A wonderful little production. &lt;br /&gt;&lt;br /&gt;The...</td>\n",
              "      <td>positive</td>\n",
              "    </tr>\n",
              "    <tr>\n",
              "      <th>2</th>\n",
              "      <td>I thought this was a wonderful way to spend ti...</td>\n",
              "      <td>positive</td>\n",
              "    </tr>\n",
              "    <tr>\n",
              "      <th>3</th>\n",
              "      <td>Basically there's a family where a little boy ...</td>\n",
              "      <td>negative</td>\n",
              "    </tr>\n",
              "    <tr>\n",
              "      <th>4</th>\n",
              "      <td>Petter Mattei's \"Love in the Time of Money\" is...</td>\n",
              "      <td>positive</td>\n",
              "    </tr>\n",
              "    <tr>\n",
              "      <th>...</th>\n",
              "      <td>...</td>\n",
              "      <td>...</td>\n",
              "    </tr>\n",
              "    <tr>\n",
              "      <th>14995</th>\n",
              "      <td>Bobcat Goldthwait should be commended for atte...</td>\n",
              "      <td>negative</td>\n",
              "    </tr>\n",
              "    <tr>\n",
              "      <th>14996</th>\n",
              "      <td>And it's not because since her days on \"Claris...</td>\n",
              "      <td>positive</td>\n",
              "    </tr>\n",
              "    <tr>\n",
              "      <th>14997</th>\n",
              "      <td>A traveling couple (Horton and Hamilton)stumbl...</td>\n",
              "      <td>negative</td>\n",
              "    </tr>\n",
              "    <tr>\n",
              "      <th>14998</th>\n",
              "      <td>This film is deeply disappointing. Not only th...</td>\n",
              "      <td>negative</td>\n",
              "    </tr>\n",
              "    <tr>\n",
              "      <th>14999</th>\n",
              "      <td>The revelation here is Lana Turner's dancing a...</td>\n",
              "      <td>positive</td>\n",
              "    </tr>\n",
              "  </tbody>\n",
              "</table>\n",
              "<p>15000 rows × 2 columns</p>\n",
              "</div>\n",
              "    <div class=\"colab-df-buttons\">\n",
              "\n",
              "  <div class=\"colab-df-container\">\n",
              "    <button class=\"colab-df-convert\" onclick=\"convertToInteractive('df-4fe602b8-87ae-4914-a00c-a5851e82bce4')\"\n",
              "            title=\"Convert this dataframe to an interactive table.\"\n",
              "            style=\"display:none;\">\n",
              "\n",
              "  <svg xmlns=\"http://www.w3.org/2000/svg\" height=\"24px\" viewBox=\"0 -960 960 960\">\n",
              "    <path d=\"M120-120v-720h720v720H120Zm60-500h600v-160H180v160Zm220 220h160v-160H400v160Zm0 220h160v-160H400v160ZM180-400h160v-160H180v160Zm440 0h160v-160H620v160ZM180-180h160v-160H180v160Zm440 0h160v-160H620v160Z\"/>\n",
              "  </svg>\n",
              "    </button>\n",
              "\n",
              "  <style>\n",
              "    .colab-df-container {\n",
              "      display:flex;\n",
              "      gap: 12px;\n",
              "    }\n",
              "\n",
              "    .colab-df-convert {\n",
              "      background-color: #E8F0FE;\n",
              "      border: none;\n",
              "      border-radius: 50%;\n",
              "      cursor: pointer;\n",
              "      display: none;\n",
              "      fill: #1967D2;\n",
              "      height: 32px;\n",
              "      padding: 0 0 0 0;\n",
              "      width: 32px;\n",
              "    }\n",
              "\n",
              "    .colab-df-convert:hover {\n",
              "      background-color: #E2EBFA;\n",
              "      box-shadow: 0px 1px 2px rgba(60, 64, 67, 0.3), 0px 1px 3px 1px rgba(60, 64, 67, 0.15);\n",
              "      fill: #174EA6;\n",
              "    }\n",
              "\n",
              "    .colab-df-buttons div {\n",
              "      margin-bottom: 4px;\n",
              "    }\n",
              "\n",
              "    [theme=dark] .colab-df-convert {\n",
              "      background-color: #3B4455;\n",
              "      fill: #D2E3FC;\n",
              "    }\n",
              "\n",
              "    [theme=dark] .colab-df-convert:hover {\n",
              "      background-color: #434B5C;\n",
              "      box-shadow: 0px 1px 3px 1px rgba(0, 0, 0, 0.15);\n",
              "      filter: drop-shadow(0px 1px 2px rgba(0, 0, 0, 0.3));\n",
              "      fill: #FFFFFF;\n",
              "    }\n",
              "  </style>\n",
              "\n",
              "    <script>\n",
              "      const buttonEl =\n",
              "        document.querySelector('#df-4fe602b8-87ae-4914-a00c-a5851e82bce4 button.colab-df-convert');\n",
              "      buttonEl.style.display =\n",
              "        google.colab.kernel.accessAllowed ? 'block' : 'none';\n",
              "\n",
              "      async function convertToInteractive(key) {\n",
              "        const element = document.querySelector('#df-4fe602b8-87ae-4914-a00c-a5851e82bce4');\n",
              "        const dataTable =\n",
              "          await google.colab.kernel.invokeFunction('convertToInteractive',\n",
              "                                                    [key], {});\n",
              "        if (!dataTable) return;\n",
              "\n",
              "        const docLinkHtml = 'Like what you see? Visit the ' +\n",
              "          '<a target=\"_blank\" href=https://colab.research.google.com/notebooks/data_table.ipynb>data table notebook</a>'\n",
              "          + ' to learn more about interactive tables.';\n",
              "        element.innerHTML = '';\n",
              "        dataTable['output_type'] = 'display_data';\n",
              "        await google.colab.output.renderOutput(dataTable, element);\n",
              "        const docLink = document.createElement('div');\n",
              "        docLink.innerHTML = docLinkHtml;\n",
              "        element.appendChild(docLink);\n",
              "      }\n",
              "    </script>\n",
              "  </div>\n",
              "\n",
              "\n",
              "<div id=\"df-2b154708-80c8-4027-85ea-7bdf7db0520c\">\n",
              "  <button class=\"colab-df-quickchart\" onclick=\"quickchart('df-2b154708-80c8-4027-85ea-7bdf7db0520c')\"\n",
              "            title=\"Suggest charts\"\n",
              "            style=\"display:none;\">\n",
              "\n",
              "<svg xmlns=\"http://www.w3.org/2000/svg\" height=\"24px\"viewBox=\"0 0 24 24\"\n",
              "     width=\"24px\">\n",
              "    <g>\n",
              "        <path d=\"M19 3H5c-1.1 0-2 .9-2 2v14c0 1.1.9 2 2 2h14c1.1 0 2-.9 2-2V5c0-1.1-.9-2-2-2zM9 17H7v-7h2v7zm4 0h-2V7h2v10zm4 0h-2v-4h2v4z\"/>\n",
              "    </g>\n",
              "</svg>\n",
              "  </button>\n",
              "\n",
              "<style>\n",
              "  .colab-df-quickchart {\n",
              "      --bg-color: #E8F0FE;\n",
              "      --fill-color: #1967D2;\n",
              "      --hover-bg-color: #E2EBFA;\n",
              "      --hover-fill-color: #174EA6;\n",
              "      --disabled-fill-color: #AAA;\n",
              "      --disabled-bg-color: #DDD;\n",
              "  }\n",
              "\n",
              "  [theme=dark] .colab-df-quickchart {\n",
              "      --bg-color: #3B4455;\n",
              "      --fill-color: #D2E3FC;\n",
              "      --hover-bg-color: #434B5C;\n",
              "      --hover-fill-color: #FFFFFF;\n",
              "      --disabled-bg-color: #3B4455;\n",
              "      --disabled-fill-color: #666;\n",
              "  }\n",
              "\n",
              "  .colab-df-quickchart {\n",
              "    background-color: var(--bg-color);\n",
              "    border: none;\n",
              "    border-radius: 50%;\n",
              "    cursor: pointer;\n",
              "    display: none;\n",
              "    fill: var(--fill-color);\n",
              "    height: 32px;\n",
              "    padding: 0;\n",
              "    width: 32px;\n",
              "  }\n",
              "\n",
              "  .colab-df-quickchart:hover {\n",
              "    background-color: var(--hover-bg-color);\n",
              "    box-shadow: 0 1px 2px rgba(60, 64, 67, 0.3), 0 1px 3px 1px rgba(60, 64, 67, 0.15);\n",
              "    fill: var(--button-hover-fill-color);\n",
              "  }\n",
              "\n",
              "  .colab-df-quickchart-complete:disabled,\n",
              "  .colab-df-quickchart-complete:disabled:hover {\n",
              "    background-color: var(--disabled-bg-color);\n",
              "    fill: var(--disabled-fill-color);\n",
              "    box-shadow: none;\n",
              "  }\n",
              "\n",
              "  .colab-df-spinner {\n",
              "    border: 2px solid var(--fill-color);\n",
              "    border-color: transparent;\n",
              "    border-bottom-color: var(--fill-color);\n",
              "    animation:\n",
              "      spin 1s steps(1) infinite;\n",
              "  }\n",
              "\n",
              "  @keyframes spin {\n",
              "    0% {\n",
              "      border-color: transparent;\n",
              "      border-bottom-color: var(--fill-color);\n",
              "      border-left-color: var(--fill-color);\n",
              "    }\n",
              "    20% {\n",
              "      border-color: transparent;\n",
              "      border-left-color: var(--fill-color);\n",
              "      border-top-color: var(--fill-color);\n",
              "    }\n",
              "    30% {\n",
              "      border-color: transparent;\n",
              "      border-left-color: var(--fill-color);\n",
              "      border-top-color: var(--fill-color);\n",
              "      border-right-color: var(--fill-color);\n",
              "    }\n",
              "    40% {\n",
              "      border-color: transparent;\n",
              "      border-right-color: var(--fill-color);\n",
              "      border-top-color: var(--fill-color);\n",
              "    }\n",
              "    60% {\n",
              "      border-color: transparent;\n",
              "      border-right-color: var(--fill-color);\n",
              "    }\n",
              "    80% {\n",
              "      border-color: transparent;\n",
              "      border-right-color: var(--fill-color);\n",
              "      border-bottom-color: var(--fill-color);\n",
              "    }\n",
              "    90% {\n",
              "      border-color: transparent;\n",
              "      border-bottom-color: var(--fill-color);\n",
              "    }\n",
              "  }\n",
              "</style>\n",
              "\n",
              "  <script>\n",
              "    async function quickchart(key) {\n",
              "      const quickchartButtonEl =\n",
              "        document.querySelector('#' + key + ' button');\n",
              "      quickchartButtonEl.disabled = true;  // To prevent multiple clicks.\n",
              "      quickchartButtonEl.classList.add('colab-df-spinner');\n",
              "      try {\n",
              "        const charts = await google.colab.kernel.invokeFunction(\n",
              "            'suggestCharts', [key], {});\n",
              "      } catch (error) {\n",
              "        console.error('Error during call to suggestCharts:', error);\n",
              "      }\n",
              "      quickchartButtonEl.classList.remove('colab-df-spinner');\n",
              "      quickchartButtonEl.classList.add('colab-df-quickchart-complete');\n",
              "    }\n",
              "    (() => {\n",
              "      let quickchartButtonEl =\n",
              "        document.querySelector('#df-2b154708-80c8-4027-85ea-7bdf7db0520c button');\n",
              "      quickchartButtonEl.style.display =\n",
              "        google.colab.kernel.accessAllowed ? 'block' : 'none';\n",
              "    })();\n",
              "  </script>\n",
              "</div>\n",
              "\n",
              "  <div id=\"id_2049d790-f81b-4441-b045-0fb395a59659\">\n",
              "    <style>\n",
              "      .colab-df-generate {\n",
              "        background-color: #E8F0FE;\n",
              "        border: none;\n",
              "        border-radius: 50%;\n",
              "        cursor: pointer;\n",
              "        display: none;\n",
              "        fill: #1967D2;\n",
              "        height: 32px;\n",
              "        padding: 0 0 0 0;\n",
              "        width: 32px;\n",
              "      }\n",
              "\n",
              "      .colab-df-generate:hover {\n",
              "        background-color: #E2EBFA;\n",
              "        box-shadow: 0px 1px 2px rgba(60, 64, 67, 0.3), 0px 1px 3px 1px rgba(60, 64, 67, 0.15);\n",
              "        fill: #174EA6;\n",
              "      }\n",
              "\n",
              "      [theme=dark] .colab-df-generate {\n",
              "        background-color: #3B4455;\n",
              "        fill: #D2E3FC;\n",
              "      }\n",
              "\n",
              "      [theme=dark] .colab-df-generate:hover {\n",
              "        background-color: #434B5C;\n",
              "        box-shadow: 0px 1px 3px 1px rgba(0, 0, 0, 0.15);\n",
              "        filter: drop-shadow(0px 1px 2px rgba(0, 0, 0, 0.3));\n",
              "        fill: #FFFFFF;\n",
              "      }\n",
              "    </style>\n",
              "    <button class=\"colab-df-generate\" onclick=\"generateWithVariable('df')\"\n",
              "            title=\"Generate code using this dataframe.\"\n",
              "            style=\"display:none;\">\n",
              "\n",
              "  <svg xmlns=\"http://www.w3.org/2000/svg\" height=\"24px\"viewBox=\"0 0 24 24\"\n",
              "       width=\"24px\">\n",
              "    <path d=\"M7,19H8.4L18.45,9,17,7.55,7,17.6ZM5,21V16.75L18.45,3.32a2,2,0,0,1,2.83,0l1.4,1.43a1.91,1.91,0,0,1,.58,1.4,1.91,1.91,0,0,1-.58,1.4L9.25,21ZM18.45,9,17,7.55Zm-12,3A5.31,5.31,0,0,0,4.9,8.1,5.31,5.31,0,0,0,1,6.5,5.31,5.31,0,0,0,4.9,4.9,5.31,5.31,0,0,0,6.5,1,5.31,5.31,0,0,0,8.1,4.9,5.31,5.31,0,0,0,12,6.5,5.46,5.46,0,0,0,6.5,12Z\"/>\n",
              "  </svg>\n",
              "    </button>\n",
              "    <script>\n",
              "      (() => {\n",
              "      const buttonEl =\n",
              "        document.querySelector('#id_2049d790-f81b-4441-b045-0fb395a59659 button.colab-df-generate');\n",
              "      buttonEl.style.display =\n",
              "        google.colab.kernel.accessAllowed ? 'block' : 'none';\n",
              "\n",
              "      buttonEl.onclick = () => {\n",
              "        google.colab.notebook.generateWithVariable('df');\n",
              "      }\n",
              "      })();\n",
              "    </script>\n",
              "  </div>\n",
              "\n",
              "    </div>\n",
              "  </div>\n"
            ],
            "application/vnd.google.colaboratory.intrinsic+json": {
              "type": "dataframe",
              "variable_name": "df",
              "summary": "{\n  \"name\": \"df\",\n  \"rows\": 15000,\n  \"fields\": [\n    {\n      \"column\": \"review\",\n      \"properties\": {\n        \"dtype\": \"string\",\n        \"num_unique_values\": 14961,\n        \"samples\": [\n          \"I tried. I really, really tried to think of something that would merit rating this higher than a two. It's not that I don't \\\"get it\\\" -- I'm a big fan of Asian cinema. The truth is, the movie is infantile in construction, long-winded, and painfully disjointed.<br /><br />I suppose that if you are of Alfred Hitchcock's school of thought \\\"Don't tell them, show them,\\\" then you could try to appreciate this movie, but you would still be hard pressed.<br /><br />First of all, The Terrorizers tries stream-of-consciousness in the style of Jean-Luc Godard and fails in this. Edward Yang seems to understand the basics of the technique, but he's very unskilled at it. (Perhaps he gets better with age; I don't know as I haven't yet attempted other Yang films.) The point is, he uses a dearth of \\\"show, don't tell\\\" that really only serves to interrupt the procession of the story. Sure, he gets in some visually arresting images, but they don't draw the story together, and they don't help to make it any better.<br /><br />Additionally, the major concept behind stream-of-consciousness and \\\"show, don't tell\\\" is that with the right images, the right drama, repetition, and tight correlation, the viewer will be able to make his or her own inferences; not to say that these will be the correct inferences, but those can be amended as the story progresses, and every director should strive for some of this type of audience interaction. In this, Edward Yang sorely disappoints. The viewer is constantly on the periphery. There is no reason to be drawn in, no reason to consider the characters or their motives, no reason to get emotionally involved, and really, no reason to stay alert.<br /><br />Finally, Yang gets lost in the story that he wants to tell, not the story that the movie itself is telling. His art moves in one direction, but like a large dog he can't control, he's constantly yanking the lead, trying to get it back onto the course he wants, not the one that it is naturally following. The most egregious example of this is the ending. The ending really should have occurred at the moment of the husband's revelation. The ending of the book that the movie is focusing on, (and by extension, a possible ending for the movie) has already been told to us. If Yang had chosen to end at that point, he would have had a much more powerful piece, leaving the watcher in suspense -- does the story play out as the book says, or does Yang's \\\"real world\\\" play out differently? Asking the viewer to think about this is the sort of viewer interaction that Yang painfully needs. Instead, he continues to tell the story he wants to tell, straining the natural conclusion for the sake of what? For the sheer sake of lingering on a main character -- we didn't' need to know more about her superficially, and Yang wouldn't feel the need to tell us if he hadn't made her into a veneer instead of bothering to make her a more engaging and deep character to begin with. <br /><br />Why else does Yang prolong and torture his movie? To get in some more of those \\\"visually arresting images.\\\" The movie truly suffers for it. It wants to end, it has a conclusion that feels natural and leaves the viewer unsettled, but instead, Yang pushes on. Instead, Yang constructs a complex ending that leads the viewer on, causing him or her to constantly ask \\\"so what?\\\" The first ending, the one that Yang ignored, that was good. The second ending, well, my thought was\\\"so what, who cares?\\\", because it's not as if it is introducing something that hasn't been put forth in the storyline already... but the last ending? That really was a waste of time. Not only did the \\\"real\\\" ending leave me disengaged, but I also felt it was an affront to what the story could have been. Yang sacrificed a potentially good story for the bubblegum-melancholy-noir-tinged conclusion that he had insisted upon all along.<br /><br />My last problem with the movie has nothing to do with the movie itself, but rather its post-production. The subbing (if you see it subbed) is horrible. Long sentences stay up for a second or two, while short ones stay up far too long. Also, as Yang quickly changes images, the subtitles are removed from the screen. This is one of those rare instances that subtitles should be able to stay on the screen even as the image has changed, because there's not much dialog going on anyway.\",\n          \"Supposedly, director William Shatner had in mind a much 'darker' film when it came to 'Star Trek V: The Final Frontier' but the suits at Paramount, looking at the huge box-office receipts taken in by its humor-filled predecessor, insisted the new film have plenty of laughs too. So what we get is arguably the weakest and goofiest of the six Star Trek movies with the original cast. There are bad ideas aplenty, along with a few good ones, and if you're in a charitable mood, you could look at 'The Final Frontier' the same way you would a so-so episode of the TV series. On the plus side, Laurence Luckenbill is a fine actor and gives one of the best 'guest star' performances in any Star Trek, big or small screen, ranking right up there with William Windom's Commodore Decker. His portrayal of Sybok, Spock's half-brother, consistently lifts the film when it threatens to sink, which happens all too frequently. Charles Cooper is good too as the fat old Klingon General Korrd; too bad his role isn't as large as he is. If the story about Shatner's intentions is true, then I owe him an apology, because I was prepared to lay the blame for the incessant silliness and not-very-convincing action scenes squarely at his directorial feet. The reason is I've always felt that, of all the Trek regulars, Shatner was the least 'tuned-in' to everything that makes Star Trek work and what makes it special to its fans. Having read his Trek memoirs, it's very apparent to me that he considered the show another action-adventure series that just happened to have a science-fiction setting. He preferred the vision of Gene Coon over that of Gene Roddenberry; Coon was known for his work on the popular western series, 'The Wild Wild West.' Shatner also mentioned that a favorite Star Trek episode of his was 'A Piece of the Action,' a silly second-season episode co-written by Coon. So, finally given an opportunity to direct a Star Trek feature film, would not Shatner follow his instincts and produce an action-filled flick with lots of tongue-in-cheek humor? Well somebody did, because that's what 'The Final Frontier' ended up being. Shatner himself definitely returns to form as The Great Ham and, as Leonard Maltin points out, the film suffers from a bad case of 'the cutes.' In the opening scene at Yosemite National Park, it's hard to say which is worse, the super-cheesy special effects or the godawful dialogue. Running gags about equipment malfunctioning on the Enterprise have run all the way from 'Wrath of Khan' and by this, the fifth Trek movie, have run themselves into the ground. So has the idea of a 'skeleton crew'. One new development is an apparent romantic relationship between Scotty and Uhura and suffice it to say one does not exactly sense flames of passion burning between the two. It's a pointless subplot and adds nothing. The climactic scene where 'God' is encountered doesn't add much either; whether or not this was a good idea in the first place is debatable, but the scene itself doesn't make much sense. (The 'God' creature's abilities seem to vary according to what is needed at the moment.) Roughly half of this is a tired retread of the climax from 'The Search for Spock.' Leonard Nimoy manages to salvage Spock's integrity, even while spouting such un-Spock-like lines as \\\"Get a grip on yourself, Doctor.\\\" And DeForest Kelley, as usual, outperforms both Shatner and Nimoy; he really came on as an actor in the final Trek films. So this Trek outing isn't terrible, it just isn't very good. There was to be one more original cast Trek movie before the baton was passed to the 'next generation,' and it was far better suited to the task than 'Star Trek V: The Final Frontier.'\",\n          \"Pretty twisted Horror film, that has a few good moments here and there, with some creepy Blood transfusion scenes, however it's just too dull for it's own good. All the characters are OK, and the story while had a lot of potential is rather dull, however the blood transfusion scenes looked frighteningly real, and as a result they were extremely disturbing. It's well made and decently written, and it started out really interesting, but it just couldn't keep up the pace, plus I found the ending to be disappointing. Linnea Quigley has no more then a very small role in this so, I was also disappointed about that, and Stephen Knight does a good job as the lead, as he was pretty twisted, plus I got this in a DVD Horror set called A Taste Of Evil, along with a bunch of other Horror films. There is lots of blood,however it's not all that gory, and for it's low budget it was pretty well done, however as I said it just couldn't sustain it's interest. This is a pretty twisted Horror film, that has a few good moments here and there, with some creepy blood transfusion scenes, however it's just too dull for it's own good, I would pass,but I guess it's worth a watch if you have nothing better to do. The Direction is OK. Elly Kenner&Norman Thaddeus Vane do an OK job here with decent camera work, and doing a good job on it's low budget, however the pace is too inconsistent for my liking. The Acting is actually alright. Stephen Knight is great as the lead, he was creepy, twisted, sick, and gave a very creepy performance, the most creepy thing about it though was he seemed like a normal person. Linnea Quigley did well in her small role. Christopher McDonald is OK I guess sin his short time. Rest of the cast are OK as well. Overall I would pass, but I guess it's worth a watch if you have nothing absolutely better to do. *1/2 out of 5\"\n        ],\n        \"semantic_type\": \"\",\n        \"description\": \"\"\n      }\n    },\n    {\n      \"column\": \"sentiment\",\n      \"properties\": {\n        \"dtype\": \"category\",\n        \"num_unique_values\": 2,\n        \"samples\": [\n          \"negative\",\n          \"positive\"\n        ],\n        \"semantic_type\": \"\",\n        \"description\": \"\"\n      }\n    }\n  ]\n}"
            }
          },
          "metadata": {},
          "execution_count": 27
        }
      ]
    },
    {
      "cell_type": "code",
      "source": [
        "df = df.replace({'positive': 1, 'negative': 0})"
      ],
      "metadata": {
        "id": "WqHyCFWvq3xL"
      },
      "execution_count": null,
      "outputs": []
    },
    {
      "cell_type": "code",
      "source": [
        "df.head()"
      ],
      "metadata": {
        "id": "PRddoVU7rk6W",
        "colab": {
          "base_uri": "https://localhost:8080/",
          "height": 206
        },
        "outputId": "ce664924-611a-4297-d44f-a72d1e9b81c1"
      },
      "execution_count": null,
      "outputs": [
        {
          "output_type": "execute_result",
          "data": {
            "text/plain": [
              "                                              review  sentiment\n",
              "0  One of the other reviewers has mentioned that ...          1\n",
              "1  A wonderful little production. <br /><br />The...          1\n",
              "2  I thought this was a wonderful way to spend ti...          1\n",
              "3  Basically there's a family where a little boy ...          0\n",
              "4  Petter Mattei's \"Love in the Time of Money\" is...          1"
            ],
            "text/html": [
              "\n",
              "  <div id=\"df-f169f3cf-a050-433e-a323-49d83d3c7286\" class=\"colab-df-container\">\n",
              "    <div>\n",
              "<style scoped>\n",
              "    .dataframe tbody tr th:only-of-type {\n",
              "        vertical-align: middle;\n",
              "    }\n",
              "\n",
              "    .dataframe tbody tr th {\n",
              "        vertical-align: top;\n",
              "    }\n",
              "\n",
              "    .dataframe thead th {\n",
              "        text-align: right;\n",
              "    }\n",
              "</style>\n",
              "<table border=\"1\" class=\"dataframe\">\n",
              "  <thead>\n",
              "    <tr style=\"text-align: right;\">\n",
              "      <th></th>\n",
              "      <th>review</th>\n",
              "      <th>sentiment</th>\n",
              "    </tr>\n",
              "  </thead>\n",
              "  <tbody>\n",
              "    <tr>\n",
              "      <th>0</th>\n",
              "      <td>One of the other reviewers has mentioned that ...</td>\n",
              "      <td>1</td>\n",
              "    </tr>\n",
              "    <tr>\n",
              "      <th>1</th>\n",
              "      <td>A wonderful little production. &lt;br /&gt;&lt;br /&gt;The...</td>\n",
              "      <td>1</td>\n",
              "    </tr>\n",
              "    <tr>\n",
              "      <th>2</th>\n",
              "      <td>I thought this was a wonderful way to spend ti...</td>\n",
              "      <td>1</td>\n",
              "    </tr>\n",
              "    <tr>\n",
              "      <th>3</th>\n",
              "      <td>Basically there's a family where a little boy ...</td>\n",
              "      <td>0</td>\n",
              "    </tr>\n",
              "    <tr>\n",
              "      <th>4</th>\n",
              "      <td>Petter Mattei's \"Love in the Time of Money\" is...</td>\n",
              "      <td>1</td>\n",
              "    </tr>\n",
              "  </tbody>\n",
              "</table>\n",
              "</div>\n",
              "    <div class=\"colab-df-buttons\">\n",
              "\n",
              "  <div class=\"colab-df-container\">\n",
              "    <button class=\"colab-df-convert\" onclick=\"convertToInteractive('df-f169f3cf-a050-433e-a323-49d83d3c7286')\"\n",
              "            title=\"Convert this dataframe to an interactive table.\"\n",
              "            style=\"display:none;\">\n",
              "\n",
              "  <svg xmlns=\"http://www.w3.org/2000/svg\" height=\"24px\" viewBox=\"0 -960 960 960\">\n",
              "    <path d=\"M120-120v-720h720v720H120Zm60-500h600v-160H180v160Zm220 220h160v-160H400v160Zm0 220h160v-160H400v160ZM180-400h160v-160H180v160Zm440 0h160v-160H620v160ZM180-180h160v-160H180v160Zm440 0h160v-160H620v160Z\"/>\n",
              "  </svg>\n",
              "    </button>\n",
              "\n",
              "  <style>\n",
              "    .colab-df-container {\n",
              "      display:flex;\n",
              "      gap: 12px;\n",
              "    }\n",
              "\n",
              "    .colab-df-convert {\n",
              "      background-color: #E8F0FE;\n",
              "      border: none;\n",
              "      border-radius: 50%;\n",
              "      cursor: pointer;\n",
              "      display: none;\n",
              "      fill: #1967D2;\n",
              "      height: 32px;\n",
              "      padding: 0 0 0 0;\n",
              "      width: 32px;\n",
              "    }\n",
              "\n",
              "    .colab-df-convert:hover {\n",
              "      background-color: #E2EBFA;\n",
              "      box-shadow: 0px 1px 2px rgba(60, 64, 67, 0.3), 0px 1px 3px 1px rgba(60, 64, 67, 0.15);\n",
              "      fill: #174EA6;\n",
              "    }\n",
              "\n",
              "    .colab-df-buttons div {\n",
              "      margin-bottom: 4px;\n",
              "    }\n",
              "\n",
              "    [theme=dark] .colab-df-convert {\n",
              "      background-color: #3B4455;\n",
              "      fill: #D2E3FC;\n",
              "    }\n",
              "\n",
              "    [theme=dark] .colab-df-convert:hover {\n",
              "      background-color: #434B5C;\n",
              "      box-shadow: 0px 1px 3px 1px rgba(0, 0, 0, 0.15);\n",
              "      filter: drop-shadow(0px 1px 2px rgba(0, 0, 0, 0.3));\n",
              "      fill: #FFFFFF;\n",
              "    }\n",
              "  </style>\n",
              "\n",
              "    <script>\n",
              "      const buttonEl =\n",
              "        document.querySelector('#df-f169f3cf-a050-433e-a323-49d83d3c7286 button.colab-df-convert');\n",
              "      buttonEl.style.display =\n",
              "        google.colab.kernel.accessAllowed ? 'block' : 'none';\n",
              "\n",
              "      async function convertToInteractive(key) {\n",
              "        const element = document.querySelector('#df-f169f3cf-a050-433e-a323-49d83d3c7286');\n",
              "        const dataTable =\n",
              "          await google.colab.kernel.invokeFunction('convertToInteractive',\n",
              "                                                    [key], {});\n",
              "        if (!dataTable) return;\n",
              "\n",
              "        const docLinkHtml = 'Like what you see? Visit the ' +\n",
              "          '<a target=\"_blank\" href=https://colab.research.google.com/notebooks/data_table.ipynb>data table notebook</a>'\n",
              "          + ' to learn more about interactive tables.';\n",
              "        element.innerHTML = '';\n",
              "        dataTable['output_type'] = 'display_data';\n",
              "        await google.colab.output.renderOutput(dataTable, element);\n",
              "        const docLink = document.createElement('div');\n",
              "        docLink.innerHTML = docLinkHtml;\n",
              "        element.appendChild(docLink);\n",
              "      }\n",
              "    </script>\n",
              "  </div>\n",
              "\n",
              "\n",
              "<div id=\"df-bb0be38a-c0e4-4030-b06c-47bb87e4103c\">\n",
              "  <button class=\"colab-df-quickchart\" onclick=\"quickchart('df-bb0be38a-c0e4-4030-b06c-47bb87e4103c')\"\n",
              "            title=\"Suggest charts\"\n",
              "            style=\"display:none;\">\n",
              "\n",
              "<svg xmlns=\"http://www.w3.org/2000/svg\" height=\"24px\"viewBox=\"0 0 24 24\"\n",
              "     width=\"24px\">\n",
              "    <g>\n",
              "        <path d=\"M19 3H5c-1.1 0-2 .9-2 2v14c0 1.1.9 2 2 2h14c1.1 0 2-.9 2-2V5c0-1.1-.9-2-2-2zM9 17H7v-7h2v7zm4 0h-2V7h2v10zm4 0h-2v-4h2v4z\"/>\n",
              "    </g>\n",
              "</svg>\n",
              "  </button>\n",
              "\n",
              "<style>\n",
              "  .colab-df-quickchart {\n",
              "      --bg-color: #E8F0FE;\n",
              "      --fill-color: #1967D2;\n",
              "      --hover-bg-color: #E2EBFA;\n",
              "      --hover-fill-color: #174EA6;\n",
              "      --disabled-fill-color: #AAA;\n",
              "      --disabled-bg-color: #DDD;\n",
              "  }\n",
              "\n",
              "  [theme=dark] .colab-df-quickchart {\n",
              "      --bg-color: #3B4455;\n",
              "      --fill-color: #D2E3FC;\n",
              "      --hover-bg-color: #434B5C;\n",
              "      --hover-fill-color: #FFFFFF;\n",
              "      --disabled-bg-color: #3B4455;\n",
              "      --disabled-fill-color: #666;\n",
              "  }\n",
              "\n",
              "  .colab-df-quickchart {\n",
              "    background-color: var(--bg-color);\n",
              "    border: none;\n",
              "    border-radius: 50%;\n",
              "    cursor: pointer;\n",
              "    display: none;\n",
              "    fill: var(--fill-color);\n",
              "    height: 32px;\n",
              "    padding: 0;\n",
              "    width: 32px;\n",
              "  }\n",
              "\n",
              "  .colab-df-quickchart:hover {\n",
              "    background-color: var(--hover-bg-color);\n",
              "    box-shadow: 0 1px 2px rgba(60, 64, 67, 0.3), 0 1px 3px 1px rgba(60, 64, 67, 0.15);\n",
              "    fill: var(--button-hover-fill-color);\n",
              "  }\n",
              "\n",
              "  .colab-df-quickchart-complete:disabled,\n",
              "  .colab-df-quickchart-complete:disabled:hover {\n",
              "    background-color: var(--disabled-bg-color);\n",
              "    fill: var(--disabled-fill-color);\n",
              "    box-shadow: none;\n",
              "  }\n",
              "\n",
              "  .colab-df-spinner {\n",
              "    border: 2px solid var(--fill-color);\n",
              "    border-color: transparent;\n",
              "    border-bottom-color: var(--fill-color);\n",
              "    animation:\n",
              "      spin 1s steps(1) infinite;\n",
              "  }\n",
              "\n",
              "  @keyframes spin {\n",
              "    0% {\n",
              "      border-color: transparent;\n",
              "      border-bottom-color: var(--fill-color);\n",
              "      border-left-color: var(--fill-color);\n",
              "    }\n",
              "    20% {\n",
              "      border-color: transparent;\n",
              "      border-left-color: var(--fill-color);\n",
              "      border-top-color: var(--fill-color);\n",
              "    }\n",
              "    30% {\n",
              "      border-color: transparent;\n",
              "      border-left-color: var(--fill-color);\n",
              "      border-top-color: var(--fill-color);\n",
              "      border-right-color: var(--fill-color);\n",
              "    }\n",
              "    40% {\n",
              "      border-color: transparent;\n",
              "      border-right-color: var(--fill-color);\n",
              "      border-top-color: var(--fill-color);\n",
              "    }\n",
              "    60% {\n",
              "      border-color: transparent;\n",
              "      border-right-color: var(--fill-color);\n",
              "    }\n",
              "    80% {\n",
              "      border-color: transparent;\n",
              "      border-right-color: var(--fill-color);\n",
              "      border-bottom-color: var(--fill-color);\n",
              "    }\n",
              "    90% {\n",
              "      border-color: transparent;\n",
              "      border-bottom-color: var(--fill-color);\n",
              "    }\n",
              "  }\n",
              "</style>\n",
              "\n",
              "  <script>\n",
              "    async function quickchart(key) {\n",
              "      const quickchartButtonEl =\n",
              "        document.querySelector('#' + key + ' button');\n",
              "      quickchartButtonEl.disabled = true;  // To prevent multiple clicks.\n",
              "      quickchartButtonEl.classList.add('colab-df-spinner');\n",
              "      try {\n",
              "        const charts = await google.colab.kernel.invokeFunction(\n",
              "            'suggestCharts', [key], {});\n",
              "      } catch (error) {\n",
              "        console.error('Error during call to suggestCharts:', error);\n",
              "      }\n",
              "      quickchartButtonEl.classList.remove('colab-df-spinner');\n",
              "      quickchartButtonEl.classList.add('colab-df-quickchart-complete');\n",
              "    }\n",
              "    (() => {\n",
              "      let quickchartButtonEl =\n",
              "        document.querySelector('#df-bb0be38a-c0e4-4030-b06c-47bb87e4103c button');\n",
              "      quickchartButtonEl.style.display =\n",
              "        google.colab.kernel.accessAllowed ? 'block' : 'none';\n",
              "    })();\n",
              "  </script>\n",
              "</div>\n",
              "\n",
              "    </div>\n",
              "  </div>\n"
            ],
            "application/vnd.google.colaboratory.intrinsic+json": {
              "type": "dataframe",
              "variable_name": "df",
              "summary": "{\n  \"name\": \"df\",\n  \"rows\": 15000,\n  \"fields\": [\n    {\n      \"column\": \"review\",\n      \"properties\": {\n        \"dtype\": \"string\",\n        \"num_unique_values\": 14961,\n        \"samples\": [\n          \"I tried. I really, really tried to think of something that would merit rating this higher than a two. It's not that I don't \\\"get it\\\" -- I'm a big fan of Asian cinema. The truth is, the movie is infantile in construction, long-winded, and painfully disjointed.<br /><br />I suppose that if you are of Alfred Hitchcock's school of thought \\\"Don't tell them, show them,\\\" then you could try to appreciate this movie, but you would still be hard pressed.<br /><br />First of all, The Terrorizers tries stream-of-consciousness in the style of Jean-Luc Godard and fails in this. Edward Yang seems to understand the basics of the technique, but he's very unskilled at it. (Perhaps he gets better with age; I don't know as I haven't yet attempted other Yang films.) The point is, he uses a dearth of \\\"show, don't tell\\\" that really only serves to interrupt the procession of the story. Sure, he gets in some visually arresting images, but they don't draw the story together, and they don't help to make it any better.<br /><br />Additionally, the major concept behind stream-of-consciousness and \\\"show, don't tell\\\" is that with the right images, the right drama, repetition, and tight correlation, the viewer will be able to make his or her own inferences; not to say that these will be the correct inferences, but those can be amended as the story progresses, and every director should strive for some of this type of audience interaction. In this, Edward Yang sorely disappoints. The viewer is constantly on the periphery. There is no reason to be drawn in, no reason to consider the characters or their motives, no reason to get emotionally involved, and really, no reason to stay alert.<br /><br />Finally, Yang gets lost in the story that he wants to tell, not the story that the movie itself is telling. His art moves in one direction, but like a large dog he can't control, he's constantly yanking the lead, trying to get it back onto the course he wants, not the one that it is naturally following. The most egregious example of this is the ending. The ending really should have occurred at the moment of the husband's revelation. The ending of the book that the movie is focusing on, (and by extension, a possible ending for the movie) has already been told to us. If Yang had chosen to end at that point, he would have had a much more powerful piece, leaving the watcher in suspense -- does the story play out as the book says, or does Yang's \\\"real world\\\" play out differently? Asking the viewer to think about this is the sort of viewer interaction that Yang painfully needs. Instead, he continues to tell the story he wants to tell, straining the natural conclusion for the sake of what? For the sheer sake of lingering on a main character -- we didn't' need to know more about her superficially, and Yang wouldn't feel the need to tell us if he hadn't made her into a veneer instead of bothering to make her a more engaging and deep character to begin with. <br /><br />Why else does Yang prolong and torture his movie? To get in some more of those \\\"visually arresting images.\\\" The movie truly suffers for it. It wants to end, it has a conclusion that feels natural and leaves the viewer unsettled, but instead, Yang pushes on. Instead, Yang constructs a complex ending that leads the viewer on, causing him or her to constantly ask \\\"so what?\\\" The first ending, the one that Yang ignored, that was good. The second ending, well, my thought was\\\"so what, who cares?\\\", because it's not as if it is introducing something that hasn't been put forth in the storyline already... but the last ending? That really was a waste of time. Not only did the \\\"real\\\" ending leave me disengaged, but I also felt it was an affront to what the story could have been. Yang sacrificed a potentially good story for the bubblegum-melancholy-noir-tinged conclusion that he had insisted upon all along.<br /><br />My last problem with the movie has nothing to do with the movie itself, but rather its post-production. The subbing (if you see it subbed) is horrible. Long sentences stay up for a second or two, while short ones stay up far too long. Also, as Yang quickly changes images, the subtitles are removed from the screen. This is one of those rare instances that subtitles should be able to stay on the screen even as the image has changed, because there's not much dialog going on anyway.\",\n          \"Supposedly, director William Shatner had in mind a much 'darker' film when it came to 'Star Trek V: The Final Frontier' but the suits at Paramount, looking at the huge box-office receipts taken in by its humor-filled predecessor, insisted the new film have plenty of laughs too. So what we get is arguably the weakest and goofiest of the six Star Trek movies with the original cast. There are bad ideas aplenty, along with a few good ones, and if you're in a charitable mood, you could look at 'The Final Frontier' the same way you would a so-so episode of the TV series. On the plus side, Laurence Luckenbill is a fine actor and gives one of the best 'guest star' performances in any Star Trek, big or small screen, ranking right up there with William Windom's Commodore Decker. His portrayal of Sybok, Spock's half-brother, consistently lifts the film when it threatens to sink, which happens all too frequently. Charles Cooper is good too as the fat old Klingon General Korrd; too bad his role isn't as large as he is. If the story about Shatner's intentions is true, then I owe him an apology, because I was prepared to lay the blame for the incessant silliness and not-very-convincing action scenes squarely at his directorial feet. The reason is I've always felt that, of all the Trek regulars, Shatner was the least 'tuned-in' to everything that makes Star Trek work and what makes it special to its fans. Having read his Trek memoirs, it's very apparent to me that he considered the show another action-adventure series that just happened to have a science-fiction setting. He preferred the vision of Gene Coon over that of Gene Roddenberry; Coon was known for his work on the popular western series, 'The Wild Wild West.' Shatner also mentioned that a favorite Star Trek episode of his was 'A Piece of the Action,' a silly second-season episode co-written by Coon. So, finally given an opportunity to direct a Star Trek feature film, would not Shatner follow his instincts and produce an action-filled flick with lots of tongue-in-cheek humor? Well somebody did, because that's what 'The Final Frontier' ended up being. Shatner himself definitely returns to form as The Great Ham and, as Leonard Maltin points out, the film suffers from a bad case of 'the cutes.' In the opening scene at Yosemite National Park, it's hard to say which is worse, the super-cheesy special effects or the godawful dialogue. Running gags about equipment malfunctioning on the Enterprise have run all the way from 'Wrath of Khan' and by this, the fifth Trek movie, have run themselves into the ground. So has the idea of a 'skeleton crew'. One new development is an apparent romantic relationship between Scotty and Uhura and suffice it to say one does not exactly sense flames of passion burning between the two. It's a pointless subplot and adds nothing. The climactic scene where 'God' is encountered doesn't add much either; whether or not this was a good idea in the first place is debatable, but the scene itself doesn't make much sense. (The 'God' creature's abilities seem to vary according to what is needed at the moment.) Roughly half of this is a tired retread of the climax from 'The Search for Spock.' Leonard Nimoy manages to salvage Spock's integrity, even while spouting such un-Spock-like lines as \\\"Get a grip on yourself, Doctor.\\\" And DeForest Kelley, as usual, outperforms both Shatner and Nimoy; he really came on as an actor in the final Trek films. So this Trek outing isn't terrible, it just isn't very good. There was to be one more original cast Trek movie before the baton was passed to the 'next generation,' and it was far better suited to the task than 'Star Trek V: The Final Frontier.'\",\n          \"Pretty twisted Horror film, that has a few good moments here and there, with some creepy Blood transfusion scenes, however it's just too dull for it's own good. All the characters are OK, and the story while had a lot of potential is rather dull, however the blood transfusion scenes looked frighteningly real, and as a result they were extremely disturbing. It's well made and decently written, and it started out really interesting, but it just couldn't keep up the pace, plus I found the ending to be disappointing. Linnea Quigley has no more then a very small role in this so, I was also disappointed about that, and Stephen Knight does a good job as the lead, as he was pretty twisted, plus I got this in a DVD Horror set called A Taste Of Evil, along with a bunch of other Horror films. There is lots of blood,however it's not all that gory, and for it's low budget it was pretty well done, however as I said it just couldn't sustain it's interest. This is a pretty twisted Horror film, that has a few good moments here and there, with some creepy blood transfusion scenes, however it's just too dull for it's own good, I would pass,but I guess it's worth a watch if you have nothing better to do. The Direction is OK. Elly Kenner&Norman Thaddeus Vane do an OK job here with decent camera work, and doing a good job on it's low budget, however the pace is too inconsistent for my liking. The Acting is actually alright. Stephen Knight is great as the lead, he was creepy, twisted, sick, and gave a very creepy performance, the most creepy thing about it though was he seemed like a normal person. Linnea Quigley did well in her small role. Christopher McDonald is OK I guess sin his short time. Rest of the cast are OK as well. Overall I would pass, but I guess it's worth a watch if you have nothing absolutely better to do. *1/2 out of 5\"\n        ],\n        \"semantic_type\": \"\",\n        \"description\": \"\"\n      }\n    },\n    {\n      \"column\": \"sentiment\",\n      \"properties\": {\n        \"dtype\": \"number\",\n        \"std\": 0,\n        \"min\": 0,\n        \"max\": 1,\n        \"num_unique_values\": 2,\n        \"samples\": [\n          0,\n          1\n        ],\n        \"semantic_type\": \"\",\n        \"description\": \"\"\n      }\n    }\n  ]\n}"
            }
          },
          "metadata": {},
          "execution_count": 29
        }
      ]
    },
    {
      "cell_type": "code",
      "source": [
        "X = df['review']\n",
        "y = df['sentiment']"
      ],
      "metadata": {
        "id": "evr9HV3OrmLW"
      },
      "execution_count": null,
      "outputs": []
    },
    {
      "cell_type": "code",
      "source": [
        "X.shape, y.shape"
      ],
      "metadata": {
        "id": "ONXrKD_nr5mi",
        "colab": {
          "base_uri": "https://localhost:8080/"
        },
        "outputId": "0cf7e8c5-c319-497a-9642-edb2f1ac3f5b"
      },
      "execution_count": null,
      "outputs": [
        {
          "output_type": "execute_result",
          "data": {
            "text/plain": [
              "((15000,), (15000,))"
            ]
          },
          "metadata": {},
          "execution_count": 31
        }
      ]
    },
    {
      "cell_type": "code",
      "source": [
        "y.value_counts()"
      ],
      "metadata": {
        "id": "FLuLhEBUr6gP",
        "colab": {
          "base_uri": "https://localhost:8080/"
        },
        "outputId": "cd120f93-1a2f-4a64-896c-618896640533"
      },
      "execution_count": null,
      "outputs": [
        {
          "output_type": "execute_result",
          "data": {
            "text/plain": [
              "sentiment\n",
              "0    7609\n",
              "1    7391\n",
              "Name: count, dtype: int64"
            ]
          },
          "metadata": {},
          "execution_count": 32
        }
      ]
    },
    {
      "cell_type": "code",
      "source": [
        "X.isnull().sum()"
      ],
      "metadata": {
        "id": "h1979PFKr-q-",
        "colab": {
          "base_uri": "https://localhost:8080/"
        },
        "outputId": "38788e26-b900-4164-bb4b-6112985b8152"
      },
      "execution_count": null,
      "outputs": [
        {
          "output_type": "execute_result",
          "data": {
            "text/plain": [
              "0"
            ]
          },
          "metadata": {},
          "execution_count": 33
        }
      ]
    },
    {
      "cell_type": "code",
      "source": [
        "y.isnull().sum()"
      ],
      "metadata": {
        "id": "ZD039wp3sDVg",
        "colab": {
          "base_uri": "https://localhost:8080/"
        },
        "outputId": "5b5a9149-e4ba-4dac-e019-710103629217"
      },
      "execution_count": null,
      "outputs": [
        {
          "output_type": "execute_result",
          "data": {
            "text/plain": [
              "0"
            ]
          },
          "metadata": {},
          "execution_count": 34
        }
      ]
    },
    {
      "cell_type": "code",
      "source": [
        "from sklearn.model_selection import train_test_split\n",
        "X_train, X_test, y_train, y_test = train_test_split(X, y, test_size=0.2, random_state=42)"
      ],
      "metadata": {
        "id": "DKUhzSMEsNWT"
      },
      "execution_count": null,
      "outputs": []
    },
    {
      "cell_type": "code",
      "source": [
        "X_train.shape, X_test.shape"
      ],
      "metadata": {
        "id": "J8481g76sOuq",
        "colab": {
          "base_uri": "https://localhost:8080/"
        },
        "outputId": "aca66937-70b4-4d1a-fdb3-23b2bccf3090"
      },
      "execution_count": null,
      "outputs": [
        {
          "output_type": "execute_result",
          "data": {
            "text/plain": [
              "((12000,), (3000,))"
            ]
          },
          "metadata": {},
          "execution_count": 36
        }
      ]
    },
    {
      "cell_type": "markdown",
      "source": [
        "## 2. Tokenization"
      ],
      "metadata": {
        "id": "vBVNZHMDsgA8"
      }
    },
    {
      "cell_type": "code",
      "source": [
        "# Find the average number of tokens (words) in the trainig tweets\n",
        "round(sum([len(i.split()) for i in X_train])/len(X_train))"
      ],
      "metadata": {
        "id": "sjHYPgjXsSO2",
        "colab": {
          "base_uri": "https://localhost:8080/"
        },
        "outputId": "7432c168-6f94-490d-ce48-0395d745f8d3"
      },
      "execution_count": null,
      "outputs": [
        {
          "output_type": "execute_result",
          "data": {
            "text/plain": [
              "231"
            ]
          },
          "metadata": {},
          "execution_count": 37
        }
      ]
    },
    {
      "cell_type": "code",
      "source": [
        "from tensorflow.keras.layers import TextVectorization\n",
        "max_vocab_length = 50000\n",
        "max_length = 233\n",
        "\n",
        "text_vectorizer = TextVectorization(max_tokens=max_vocab_length,\n",
        "                                    output_mode=\"int\",\n",
        "                                    output_sequence_length=max_length)\n",
        "text_vectorizer.adapt(X_train)"
      ],
      "metadata": {
        "id": "jz-HxtHlsv01"
      },
      "execution_count": null,
      "outputs": []
    },
    {
      "cell_type": "code",
      "source": [
        "len(text_vectorizer.get_vocabulary())"
      ],
      "metadata": {
        "id": "wubuG1mTs33q",
        "colab": {
          "base_uri": "https://localhost:8080/"
        },
        "outputId": "08cc543e-564d-43af-cd8b-316e6170d71c"
      },
      "execution_count": null,
      "outputs": [
        {
          "output_type": "execute_result",
          "data": {
            "text/plain": [
              "50000"
            ]
          },
          "metadata": {},
          "execution_count": 39
        }
      ]
    },
    {
      "cell_type": "markdown",
      "source": [
        "## 3. Embedding layer"
      ],
      "metadata": {
        "id": "V8-qWuMMtWBy"
      }
    },
    {
      "cell_type": "code",
      "source": [
        "from tensorflow.keras.layers import Embedding\n",
        "embedding = Embedding(input_dim=max_vocab_length,\n",
        "                      output_dim=256,\n",
        "                      embeddings_initializer='uniform',\n",
        "                      input_length=max_length)"
      ],
      "metadata": {
        "id": "jPR0rnz0tJow"
      },
      "execution_count": null,
      "outputs": []
    },
    {
      "cell_type": "markdown",
      "source": [
        "## 4. Creating Models"
      ],
      "metadata": {
        "id": "GE61ierxuAw2"
      }
    },
    {
      "cell_type": "markdown",
      "source": [
        "### Model 1 - Naive Bayes"
      ],
      "metadata": {
        "id": "Ul9pTVGpuLwh"
      }
    },
    {
      "cell_type": "code",
      "source": [
        "from sklearn.feature_extraction.text import TfidfVectorizer\n",
        "from sklearn.naive_bayes import MultinomialNB\n",
        "from sklearn.pipeline import Pipeline\n",
        "\n",
        "model_1 = Pipeline([\n",
        "                    (\"tfidf\", TfidfVectorizer()),\n",
        "                    (\"clf\", MultinomialNB())\n",
        "])\n",
        "\n",
        "history_1 = model_1.fit(X_train, y_train)"
      ],
      "metadata": {
        "id": "syIcxXx2uSaa"
      },
      "execution_count": null,
      "outputs": []
    },
    {
      "cell_type": "code",
      "source": [
        "model_1_preds = model_1.predict(X_test)\n",
        "model_1_preds"
      ],
      "metadata": {
        "id": "1Zp-AnBruhJn",
        "colab": {
          "base_uri": "https://localhost:8080/"
        },
        "outputId": "b036258b-7955-46f9-ebd0-b62c23752ca3"
      },
      "execution_count": null,
      "outputs": [
        {
          "output_type": "execute_result",
          "data": {
            "text/plain": [
              "array([1, 0, 1, ..., 1, 0, 1])"
            ]
          },
          "metadata": {},
          "execution_count": 42
        }
      ]
    },
    {
      "cell_type": "code",
      "source": [
        "from sklearn.metrics import accuracy_score, precision_recall_fscore_support\n",
        "\n",
        "def calculate_results(y_true, y_pred):\n",
        "\n",
        "  accuracy = accuracy_score(y_true, y_pred)\n",
        "  precision, recall, f1_score, _ = precision_recall_fscore_support(y_true, y_pred, average=\"weighted\")\n",
        "\n",
        "  result = {\"Accuracy\": accuracy, \"Precision\": precision, \"Recall\": recall, \"F1 Score\": f1_score}\n",
        "  return result"
      ],
      "metadata": {
        "id": "DdxYSiMautGB"
      },
      "execution_count": null,
      "outputs": []
    },
    {
      "cell_type": "code",
      "source": [
        "model_1_results = calculate_results(y_test, model_1_preds)\n",
        "model_1_results"
      ],
      "metadata": {
        "id": "CAJloYxSvCkv",
        "colab": {
          "base_uri": "https://localhost:8080/"
        },
        "outputId": "fadec7ef-cca4-4fa7-9a84-d7b582604093"
      },
      "execution_count": null,
      "outputs": [
        {
          "output_type": "execute_result",
          "data": {
            "text/plain": [
              "{'Accuracy': 0.857,\n",
              " 'Precision': 0.8607754475703326,\n",
              " 'Recall': 0.857,\n",
              " 'F1 Score': 0.8562460203335098}"
            ]
          },
          "metadata": {},
          "execution_count": 44
        }
      ]
    },
    {
      "cell_type": "markdown",
      "source": [
        "### Model 2 - LSTM"
      ],
      "metadata": {
        "id": "kCG0KM_Cv0l8"
      }
    },
    {
      "cell_type": "code",
      "source": [
        "from tensorflow.keras.layers import LSTM, Input, Dense\n",
        "from tensorflow.keras.models import Model\n",
        "inputs = Input(shape=(1,), dtype=tf.string)\n",
        "x = text_vectorizer(inputs)\n",
        "x = embedding(x)\n",
        "x = LSTM(units=64, return_sequences=True)(x)\n",
        "x = LSTM(units=32)(x)\n",
        "x = Dense(32, activation='relu')(x)\n",
        "outputs = Dense(1, activation='sigmoid')(x)\n",
        "\n",
        "model_2 = Model(inputs, outputs, name='LSTM_model')\n",
        "model_2.summary()"
      ],
      "metadata": {
        "id": "nOZjbPiHvxcn",
        "colab": {
          "base_uri": "https://localhost:8080/"
        },
        "outputId": "26c12e25-cae5-48a8-a27a-29a761238944"
      },
      "execution_count": null,
      "outputs": [
        {
          "output_type": "stream",
          "name": "stdout",
          "text": [
            "Model: \"LSTM_model\"\n",
            "_________________________________________________________________\n",
            " Layer (type)                Output Shape              Param #   \n",
            "=================================================================\n",
            " input_1 (InputLayer)        [(None, 1)]               0         \n",
            "                                                                 \n",
            " text_vectorization (TextVe  (None, 233)               0         \n",
            " ctorization)                                                    \n",
            "                                                                 \n",
            " embedding (Embedding)       (None, 233, 256)          12800000  \n",
            "                                                                 \n",
            " lstm (LSTM)                 (None, 233, 64)           82176     \n",
            "                                                                 \n",
            " lstm_1 (LSTM)               (None, 32)                12416     \n",
            "                                                                 \n",
            " dense (Dense)               (None, 32)                1056      \n",
            "                                                                 \n",
            " dense_1 (Dense)             (None, 1)                 33        \n",
            "                                                                 \n",
            "=================================================================\n",
            "Total params: 12895681 (49.19 MB)\n",
            "Trainable params: 12895681 (49.19 MB)\n",
            "Non-trainable params: 0 (0.00 Byte)\n",
            "_________________________________________________________________\n"
          ]
        }
      ]
    },
    {
      "cell_type": "code",
      "source": [
        "model_2.compile(loss='binary_crossentropy',\n",
        "                optimizer='adam',\n",
        "                metrics=['accuracy'])"
      ],
      "metadata": {
        "id": "iIE-WgtowwMZ"
      },
      "execution_count": null,
      "outputs": []
    },
    {
      "cell_type": "code",
      "source": [
        "history_2 = model_2.fit(X_train, y_train, epochs=5, validation_split=0.1)"
      ],
      "metadata": {
        "id": "DmkwVERExDZz",
        "colab": {
          "base_uri": "https://localhost:8080/"
        },
        "outputId": "a4a38c56-5901-4f47-918b-ad45a800515d"
      },
      "execution_count": null,
      "outputs": [
        {
          "output_type": "stream",
          "name": "stdout",
          "text": [
            "Epoch 1/5\n",
            "338/338 [==============================] - 275s 799ms/step - loss: 0.6924 - accuracy: 0.5170 - val_loss: 0.6971 - val_accuracy: 0.4808\n",
            "Epoch 2/5\n",
            "338/338 [==============================] - 256s 757ms/step - loss: 0.6718 - accuracy: 0.5879 - val_loss: 0.6363 - val_accuracy: 0.6675\n",
            "Epoch 3/5\n",
            "338/338 [==============================] - 265s 786ms/step - loss: 0.6347 - accuracy: 0.6195 - val_loss: 0.5940 - val_accuracy: 0.7000\n",
            "Epoch 4/5\n",
            "338/338 [==============================] - 272s 805ms/step - loss: 0.6496 - accuracy: 0.5807 - val_loss: 0.6061 - val_accuracy: 0.6808\n",
            "Epoch 5/5\n",
            "338/338 [==============================] - 255s 754ms/step - loss: 0.6310 - accuracy: 0.6258 - val_loss: 0.7011 - val_accuracy: 0.5300\n"
          ]
        }
      ]
    },
    {
      "cell_type": "code",
      "source": [
        "model_2_pred_probs = model_2.predict(X_test)\n",
        "model_2_pred_probs[:5]"
      ],
      "metadata": {
        "id": "HcJzH9wVxJT2",
        "colab": {
          "base_uri": "https://localhost:8080/"
        },
        "outputId": "b0d65fae-bcd1-4a53-c149-cd8b5f9993be"
      },
      "execution_count": null,
      "outputs": [
        {
          "output_type": "stream",
          "name": "stdout",
          "text": [
            "94/94 [==============================] - 12s 124ms/step\n"
          ]
        },
        {
          "output_type": "execute_result",
          "data": {
            "text/plain": [
              "array([[0.20761377],\n",
              "       [0.47577325],\n",
              "       [0.32152534],\n",
              "       [0.4364241 ],\n",
              "       [0.4732588 ]], dtype=float32)"
            ]
          },
          "metadata": {},
          "execution_count": 48
        }
      ]
    },
    {
      "cell_type": "code",
      "source": [
        "model_2_preds = tf.squeeze(tf.round(model_2_pred_probs))\n",
        "model_2_preds[:5]"
      ],
      "metadata": {
        "id": "4vaprI1oxRdA",
        "colab": {
          "base_uri": "https://localhost:8080/"
        },
        "outputId": "0cfa13f6-61dd-47ea-e311-9b446ba7b84e"
      },
      "execution_count": null,
      "outputs": [
        {
          "output_type": "execute_result",
          "data": {
            "text/plain": [
              "<tf.Tensor: shape=(5,), dtype=float32, numpy=array([0., 0., 0., 0., 0.], dtype=float32)>"
            ]
          },
          "metadata": {},
          "execution_count": 49
        }
      ]
    },
    {
      "cell_type": "code",
      "source": [
        "model_2_results = calculate_results(y_test, model_2_preds)\n",
        "model_2_results"
      ],
      "metadata": {
        "id": "OjhpwpC9xpTV",
        "colab": {
          "base_uri": "https://localhost:8080/"
        },
        "outputId": "f0da33ec-547b-4afb-c523-dc2a4bd71f88"
      },
      "execution_count": null,
      "outputs": [
        {
          "output_type": "execute_result",
          "data": {
            "text/plain": [
              "{'Accuracy': 0.53,\n",
              " 'Precision': 0.5581865163260512,\n",
              " 'Recall': 0.53,\n",
              " 'F1 Score': 0.4108159480049664}"
            ]
          },
          "metadata": {},
          "execution_count": 50
        }
      ]
    },
    {
      "cell_type": "markdown",
      "source": [
        "**Note** - Let's try to add few things to improve accuracy of our LSTM model"
      ],
      "metadata": {
        "id": "hjdZmXk2x2yT"
      }
    },
    {
      "cell_type": "markdown",
      "source": [
        "### Model 3 - Bidirectional LSTM"
      ],
      "metadata": {
        "id": "O1PUzuVLx_UN"
      }
    },
    {
      "cell_type": "code",
      "source": [
        "from tensorflow.keras.layers import Bidirectional, Dropout\n",
        "from tensorflow.keras.regularizers import l2\n",
        "inputs = Input(shape=(1,), dtype=tf.string)\n",
        "x = text_vectorizer(inputs)\n",
        "x = embedding(x)\n",
        "x = Bidirectional(LSTM(units=64))(x)\n",
        "x = Dense(32, activation='relu')(x)\n",
        "outputs = Dense(1, activation='sigmoid')(x)\n",
        "\n",
        "model_3 = Model(inputs, outputs, name='Bidirectional_LSTM')\n",
        "model_3.summary()"
      ],
      "metadata": {
        "id": "S0WXZLIuxvcI",
        "colab": {
          "base_uri": "https://localhost:8080/"
        },
        "outputId": "23b90734-5580-4a7b-f507-eb5e92cb4e9b"
      },
      "execution_count": null,
      "outputs": [
        {
          "output_type": "stream",
          "name": "stdout",
          "text": [
            "Model: \"Bidirectional_LSTM\"\n",
            "_________________________________________________________________\n",
            " Layer (type)                Output Shape              Param #   \n",
            "=================================================================\n",
            " input_2 (InputLayer)        [(None, 1)]               0         \n",
            "                                                                 \n",
            " text_vectorization (TextVe  (None, 233)               0         \n",
            " ctorization)                                                    \n",
            "                                                                 \n",
            " embedding (Embedding)       (None, 233, 256)          12800000  \n",
            "                                                                 \n",
            " bidirectional (Bidirection  (None, 128)               164352    \n",
            " al)                                                             \n",
            "                                                                 \n",
            " dense_2 (Dense)             (None, 32)                4128      \n",
            "                                                                 \n",
            " dense_3 (Dense)             (None, 1)                 33        \n",
            "                                                                 \n",
            "=================================================================\n",
            "Total params: 12968513 (49.47 MB)\n",
            "Trainable params: 12968513 (49.47 MB)\n",
            "Non-trainable params: 0 (0.00 Byte)\n",
            "_________________________________________________________________\n"
          ]
        }
      ]
    },
    {
      "cell_type": "code",
      "source": [
        "model_3.compile(loss='binary_crossentropy',\n",
        "                optimizer='adam',\n",
        "                metrics=['accuracy'])"
      ],
      "metadata": {
        "id": "CFMJuFhKyvLu"
      },
      "execution_count": null,
      "outputs": []
    },
    {
      "cell_type": "code",
      "source": [
        "history_3 = model_3.fit(X_train, y_train, epochs=5, validation_split=0.1)"
      ],
      "metadata": {
        "id": "viaHOzywzXAH",
        "colab": {
          "base_uri": "https://localhost:8080/"
        },
        "outputId": "94ceebb5-9a84-4465-d5b9-22c5091800bd"
      },
      "execution_count": null,
      "outputs": [
        {
          "output_type": "stream",
          "name": "stdout",
          "text": [
            "Epoch 1/5\n",
            "338/338 [==============================] - 335s 980ms/step - loss: 0.5460 - accuracy: 0.7195 - val_loss: 0.6622 - val_accuracy: 0.6417\n",
            "Epoch 2/5\n",
            "338/338 [==============================] - 321s 951ms/step - loss: 0.4517 - accuracy: 0.7858 - val_loss: 0.5159 - val_accuracy: 0.7875\n",
            "Epoch 3/5\n",
            "338/338 [==============================] - 332s 982ms/step - loss: 0.2715 - accuracy: 0.8891 - val_loss: 0.5217 - val_accuracy: 0.8167\n",
            "Epoch 4/5\n",
            "338/338 [==============================] - 330s 977ms/step - loss: 0.1142 - accuracy: 0.9583 - val_loss: 0.6529 - val_accuracy: 0.8042\n",
            "Epoch 5/5\n",
            "338/338 [==============================] - 321s 949ms/step - loss: 0.0431 - accuracy: 0.9873 - val_loss: 0.7384 - val_accuracy: 0.8200\n"
          ]
        }
      ]
    },
    {
      "cell_type": "code",
      "source": [
        "model_3_pred_probs = model_3.predict(X_test)\n",
        "model_3_preds = tf.squeeze(tf.round(model_3_pred_probs))\n",
        "model_3_preds[:5]"
      ],
      "metadata": {
        "id": "tltCmCbtzqSh",
        "colab": {
          "base_uri": "https://localhost:8080/"
        },
        "outputId": "c8d79503-efc5-4488-f059-6e555ded2e60"
      },
      "execution_count": null,
      "outputs": [
        {
          "output_type": "stream",
          "name": "stdout",
          "text": [
            "94/94 [==============================] - 17s 168ms/step\n"
          ]
        },
        {
          "output_type": "execute_result",
          "data": {
            "text/plain": [
              "<tf.Tensor: shape=(5,), dtype=float32, numpy=array([0., 1., 1., 0., 1.], dtype=float32)>"
            ]
          },
          "metadata": {},
          "execution_count": 54
        }
      ]
    },
    {
      "cell_type": "code",
      "source": [
        "model_3_results = calculate_results(y_test, model_3_preds)\n",
        "model_3_results"
      ],
      "metadata": {
        "id": "XSuK8ptxz_Hb",
        "colab": {
          "base_uri": "https://localhost:8080/"
        },
        "outputId": "c8cfd8f1-9f27-4ce5-e295-076b37a4f3e5"
      },
      "execution_count": null,
      "outputs": [
        {
          "output_type": "execute_result",
          "data": {
            "text/plain": [
              "{'Accuracy': 0.833,\n",
              " 'Precision': 0.8340119444299996,\n",
              " 'Recall': 0.833,\n",
              " 'F1 Score': 0.8330653158762883}"
            ]
          },
          "metadata": {},
          "execution_count": 55
        }
      ]
    },
    {
      "cell_type": "markdown",
      "source": [
        "### Model 4 - Conv1D"
      ],
      "metadata": {
        "id": "Lm7yf0Bx0537"
      }
    },
    {
      "cell_type": "code",
      "source": [
        "from tensorflow.keras.layers import Conv1D, GlobalMaxPooling1D\n",
        "inputs = Input(shape=(1,), dtype=\"string\")\n",
        "x = text_vectorizer(inputs)\n",
        "x = embedding(x)\n",
        "x = Conv1D(filters=128, kernel_size=5,strides=1, activation=\"relu\", padding='valid')(x)\n",
        "x = GlobalMaxPooling1D()(x)\n",
        "x = Dense(64, activation=\"relu\")(x)\n",
        "outputs = Dense(1, activation=\"sigmoid\")(x)\n",
        "model_4 = Model(inputs, outputs, name='Conv1D_model')\n",
        "model_4.summary()"
      ],
      "metadata": {
        "id": "xEE6INEt0Ehy",
        "colab": {
          "base_uri": "https://localhost:8080/"
        },
        "outputId": "d7ef95fc-8acc-4d72-8392-d1bb61586476"
      },
      "execution_count": null,
      "outputs": [
        {
          "output_type": "stream",
          "name": "stdout",
          "text": [
            "Model: \"Conv1D_model\"\n",
            "_________________________________________________________________\n",
            " Layer (type)                Output Shape              Param #   \n",
            "=================================================================\n",
            " input_3 (InputLayer)        [(None, 1)]               0         \n",
            "                                                                 \n",
            " text_vectorization (TextVe  (None, 233)               0         \n",
            " ctorization)                                                    \n",
            "                                                                 \n",
            " embedding (Embedding)       (None, 233, 256)          12800000  \n",
            "                                                                 \n",
            " conv1d (Conv1D)             (None, 229, 128)          163968    \n",
            "                                                                 \n",
            " global_max_pooling1d (Glob  (None, 128)               0         \n",
            " alMaxPooling1D)                                                 \n",
            "                                                                 \n",
            " dense_4 (Dense)             (None, 64)                8256      \n",
            "                                                                 \n",
            " dense_5 (Dense)             (None, 1)                 65        \n",
            "                                                                 \n",
            "=================================================================\n",
            "Total params: 12972289 (49.49 MB)\n",
            "Trainable params: 12972289 (49.49 MB)\n",
            "Non-trainable params: 0 (0.00 Byte)\n",
            "_________________________________________________________________\n"
          ]
        }
      ]
    },
    {
      "cell_type": "code",
      "source": [
        "model_4.compile(loss='binary_crossentropy',\n",
        "                optimizer='adam',\n",
        "                metrics=['accuracy'])"
      ],
      "metadata": {
        "id": "omB7bUTg1Rb2"
      },
      "execution_count": null,
      "outputs": []
    },
    {
      "cell_type": "code",
      "source": [
        "history_4 = model_4.fit(X_train, y_train, epochs=5, validation_split=0.1)"
      ],
      "metadata": {
        "id": "eksaBjhj2GWs",
        "colab": {
          "base_uri": "https://localhost:8080/"
        },
        "outputId": "e2881b0c-eae7-4cd9-815c-99d50f66a3ef"
      },
      "execution_count": null,
      "outputs": [
        {
          "output_type": "stream",
          "name": "stdout",
          "text": [
            "Epoch 1/5\n",
            "338/338 [==============================] - 174s 513ms/step - loss: 0.2803 - accuracy: 0.8882 - val_loss: 0.4366 - val_accuracy: 0.8233\n",
            "Epoch 2/5\n",
            "338/338 [==============================] - 187s 553ms/step - loss: 0.0821 - accuracy: 0.9724 - val_loss: 0.4245 - val_accuracy: 0.8542\n",
            "Epoch 3/5\n",
            "338/338 [==============================] - 174s 514ms/step - loss: 0.0088 - accuracy: 0.9986 - val_loss: 0.5238 - val_accuracy: 0.8583\n",
            "Epoch 4/5\n",
            "338/338 [==============================] - 176s 519ms/step - loss: 8.3215e-04 - accuracy: 1.0000 - val_loss: 0.5771 - val_accuracy: 0.8600\n",
            "Epoch 5/5\n",
            "338/338 [==============================] - 184s 544ms/step - loss: 3.4918e-04 - accuracy: 1.0000 - val_loss: 0.6094 - val_accuracy: 0.8575\n"
          ]
        }
      ]
    },
    {
      "cell_type": "code",
      "source": [
        "model_4_pred_probs = model_4.predict(X_test)\n",
        "model_4_preds = tf.squeeze(tf.round(model_4_pred_probs))\n",
        "model_4_results = calculate_results(y_test, model_4_preds)\n",
        "model_4_results"
      ],
      "metadata": {
        "id": "04OJcmJz2IQm",
        "colab": {
          "base_uri": "https://localhost:8080/"
        },
        "outputId": "f35e9155-fd77-4462-9bf0-6da3f2b3a70a"
      },
      "execution_count": null,
      "outputs": [
        {
          "output_type": "stream",
          "name": "stdout",
          "text": [
            "94/94 [==============================] - 5s 55ms/step\n"
          ]
        },
        {
          "output_type": "execute_result",
          "data": {
            "text/plain": [
              "{'Accuracy': 0.851,\n",
              " 'Precision': 0.8511127233001698,\n",
              " 'Recall': 0.851,\n",
              " 'F1 Score': 0.8510290229894328}"
            ]
          },
          "metadata": {},
          "execution_count": 59
        }
      ]
    },
    {
      "cell_type": "markdown",
      "source": [
        "### Model 5 - From Tensorflow Hub"
      ],
      "metadata": {
        "id": "wNEuX9eK2uIK"
      }
    },
    {
      "cell_type": "code",
      "source": [
        "import tensorflow_hub as hub\n",
        "sentence_encoder_layer = hub.KerasLayer(\"https://www.kaggle.com/models/google/universal-sentence-encoder/tensorFlow2/universal-sentence-encoder/2?tfhub-redirect=true\",\n",
        "                                        input_shape=[],\n",
        "                                        dtype=tf.string,\n",
        "                                        trainable=False,\n",
        "                                        name='USE')\n",
        "\n",
        "# Create model using Sequential API\n",
        "model_5 = tf.keras.Sequential([\n",
        "    sentence_encoder_layer,\n",
        "    Dense(64, activation='relu'),\n",
        "    Dense(1, activation='sigmoid')\n",
        "], name='Tensorflow_Hub_model')\n",
        "\n",
        "model_5.compile(loss='binary_crossentropy',\n",
        "                optimizer='adam',\n",
        "                metrics=['accuracy'])\n",
        "\n",
        "history_5 = model_5.fit(X_train, y_train, epochs=5, validation_split=0.1)"
      ],
      "metadata": {
        "id": "KUXNDBuf2P1G",
        "colab": {
          "base_uri": "https://localhost:8080/"
        },
        "outputId": "218bab76-ec3f-4719-b9e5-ed050fb94851"
      },
      "execution_count": null,
      "outputs": [
        {
          "output_type": "stream",
          "name": "stdout",
          "text": [
            "Epoch 1/5\n",
            "338/338 [==============================] - 23s 60ms/step - loss: 0.4206 - accuracy: 0.8312 - val_loss: 0.3225 - val_accuracy: 0.8667\n",
            "Epoch 2/5\n",
            "338/338 [==============================] - 23s 67ms/step - loss: 0.3269 - accuracy: 0.8592 - val_loss: 0.3245 - val_accuracy: 0.8592\n",
            "Epoch 3/5\n",
            "338/338 [==============================] - 21s 61ms/step - loss: 0.3185 - accuracy: 0.8619 - val_loss: 0.3058 - val_accuracy: 0.8750\n",
            "Epoch 4/5\n",
            "338/338 [==============================] - 22s 64ms/step - loss: 0.3155 - accuracy: 0.8608 - val_loss: 0.3059 - val_accuracy: 0.8733\n",
            "Epoch 5/5\n",
            "338/338 [==============================] - 21s 61ms/step - loss: 0.3124 - accuracy: 0.8612 - val_loss: 0.3045 - val_accuracy: 0.8750\n"
          ]
        }
      ]
    },
    {
      "cell_type": "code",
      "source": [
        "model_5_pred_probs = model_5.predict(X_test)\n",
        "model_5_preds = tf.squeeze(tf.round(model_5_pred_probs))\n",
        "model_5_results = calculate_results(y_test, model_5_preds)\n",
        "model_5_results"
      ],
      "metadata": {
        "id": "4JYOy8gI3IRU",
        "colab": {
          "base_uri": "https://localhost:8080/"
        },
        "outputId": "9e339e1a-7d83-4ced-d937-647815f5159f"
      },
      "execution_count": null,
      "outputs": [
        {
          "output_type": "stream",
          "name": "stdout",
          "text": [
            "94/94 [==============================] - 6s 58ms/step\n"
          ]
        },
        {
          "output_type": "execute_result",
          "data": {
            "text/plain": [
              "{'Accuracy': 0.8583333333333333,\n",
              " 'Precision': 0.8595126179284595,\n",
              " 'Recall': 0.8583333333333333,\n",
              " 'F1 Score': 0.8583864702891485}"
            ]
          },
          "metadata": {},
          "execution_count": 61
        }
      ]
    },
    {
      "cell_type": "code",
      "source": [],
      "metadata": {
        "id": "9TiGLNjs3SVg"
      },
      "execution_count": null,
      "outputs": []
    }
  ]
}